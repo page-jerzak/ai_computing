{
  "nbformat": 4,
  "nbformat_minor": 0,
  "metadata": {
    "colab": {
      "provenance": [],
      "authorship_tag": "ABX9TyO4QWyH9/C6XqvlLiHALqJr",
      "include_colab_link": true
    },
    "kernelspec": {
      "name": "python3",
      "display_name": "Python 3"
    },
    "language_info": {
      "name": "python"
    }
  },
  "cells": [
    {
      "cell_type": "markdown",
      "metadata": {
        "id": "view-in-github",
        "colab_type": "text"
      },
      "source": [
        "<a href=\"https://colab.research.google.com/github/page-jerzak/ai_computing/blob/main/Mod15Kaggle.ipynb\" target=\"_parent\"><img src=\"https://colab.research.google.com/assets/colab-badge.svg\" alt=\"Open In Colab\"/></a>"
      ]
    },
    {
      "cell_type": "code",
      "execution_count": 4,
      "metadata": {
        "colab": {
          "base_uri": "https://localhost:8080/"
        },
        "id": "Ry2LU50JD0IK",
        "outputId": "d1fa1131-9fd9-4d85-f6bb-d7b10c38cb71"
      },
      "outputs": [
        {
          "output_type": "stream",
          "name": "stdout",
          "text": [
            "                    Model  Accuracy  Precision    Recall\n",
            "0  Support Vector Machine  0.894587   0.896721  0.894587\n",
            "1             Naive Bayes  0.891738   0.893866  0.891738\n",
            "2           Decision Tree  0.749288   0.749205  0.749288\n",
            "3     Logistic Regression  0.888889   0.890139  0.888889\n",
            "\n",
            "Best Model: Support Vector Machine with accuracy 0.8945868945868946\n",
            "\n",
            "Predictions saved to 'predicted_sentiments.csv'\n"
          ]
        }
      ],
      "source": [
        "import pandas as pd\n",
        "from sklearn.model_selection import train_test_split\n",
        "from sklearn.feature_extraction.text import TfidfVectorizer\n",
        "from sklearn.svm import SVC\n",
        "from sklearn.naive_bayes import MultinomialNB\n",
        "from sklearn.tree import DecisionTreeClassifier\n",
        "from sklearn.linear_model import LogisticRegression\n",
        "from sklearn.metrics import classification_report, accuracy_score\n",
        "from sklearn.pipeline import Pipeline\n",
        "\n",
        "# Step 1: Load the datasets\n",
        "training_data = pd.read_csv('train.csv')\n",
        "test_data = pd.read_csv('test.csv')\n",
        "\n",
        "# Step 2: Preprocess the data (vectorization included)\n",
        "X = training_data['StudentComments']\n",
        "y = training_data['Sentiment']\n",
        "\n",
        "# Split the training data for evaluation purposes\n",
        "X_train, X_val, y_train, y_val = train_test_split(X, y, test_size=0.2, random_state=42)\n",
        "\n",
        "# Models to train\n",
        "models = {\n",
        "    \"Support Vector Machine\": SVC(),\n",
        "    \"Naive Bayes\": MultinomialNB(),\n",
        "    \"Decision Tree\": DecisionTreeClassifier(),\n",
        "    \"Logistic Regression\": LogisticRegression(max_iter=1000)\n",
        "}\n",
        "\n",
        "# Vectorizer: Using TF-IDF\n",
        "vectorizer = TfidfVectorizer(stop_words='english', max_features=5000)\n",
        "\n",
        "# Store results\n",
        "metrics = []\n",
        "\n",
        "for model_name, model in models.items():\n",
        "    pipeline = Pipeline([\n",
        "        ('vectorizer', vectorizer),\n",
        "        ('classifier', model)\n",
        "    ])\n",
        "    # Train the model\n",
        "    pipeline.fit(X_train, y_train)\n",
        "    # Validate the model\n",
        "    y_pred = pipeline.predict(X_val)\n",
        "    # Get metrics\n",
        "    report = classification_report(y_val, y_pred, output_dict=True, zero_division=0)\n",
        "    accuracy = accuracy_score(y_val, y_pred)\n",
        "    precision = report['weighted avg']['precision']\n",
        "    recall = report['weighted avg']['recall']\n",
        "    metrics.append({\n",
        "        'Model': model_name,\n",
        "        'Accuracy': accuracy,\n",
        "        'Precision': precision,\n",
        "        'Recall': recall\n",
        "    })\n",
        "\n",
        "# Convert metrics to a DataFrame for better visualization\n",
        "metrics_df = pd.DataFrame(metrics)\n",
        "print(metrics_df)\n",
        "\n",
        "# Step 3: Select the best model based on accuracy\n",
        "best_model_row = metrics_df.loc[metrics_df['Accuracy'].idxmax()]\n",
        "best_model_name = best_model_row['Model']\n",
        "print(f\"\\nBest Model: {best_model_name} with accuracy {best_model_row['Accuracy']}\")\n",
        "\n",
        "best_model_pipeline = Pipeline([\n",
        "    ('vectorizer', vectorizer),\n",
        "    ('classifier', models[best_model_name])\n",
        "])\n",
        "best_model_pipeline.fit(X, y)\n",
        "\n",
        "# Step 4: Predict sentiments for the test data\n",
        "test_predictions = best_model_pipeline.predict(test_data['StudentComments'])\n",
        "\n",
        "# Step 5: Save the results to a CSV file\n",
        "output = pd.DataFrame({\n",
        "    'ID': test_data['ID'],\n",
        "    'Sentiment': test_predictions\n",
        "})\n",
        "output.to_csv('predicted_sentiments.csv', index=False)\n",
        "print(\"\\nPredictions saved to 'predicted_sentiments.csv'\")\n"
      ]
    }
  ]
}